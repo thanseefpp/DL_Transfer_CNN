{
  "cells": [
    {
      "attachments": {},
      "cell_type": "markdown",
      "metadata": {
        "colab_type": "text",
        "id": "3DR-eO17geWu"
      },
      "source": [
        "# Deep Learning Image Transfer (Convolutional Neural Network)"
      ]
    },
    {
      "cell_type": "markdown",
      "metadata": {
        "colab_type": "text",
        "id": "EMefrVPCg-60"
      },
      "source": [
        "### Importing the libraries"
      ]
    },
    {
      "cell_type": "code",
      "execution_count": 1,
      "metadata": {},
      "outputs": [],
      "source": [
        "import tensorflow as tf\n",
        "from keras.preprocessing.image import ImageDataGenerator"
      ]
    },
    {
      "cell_type": "code",
      "execution_count": 2,
      "metadata": {},
      "outputs": [
        {
          "data": {
            "text/plain": [
              "'2.9.0'"
            ]
          },
          "execution_count": 2,
          "metadata": {},
          "output_type": "execute_result"
        }
      ],
      "source": [
        "tf.__version__"
      ]
    },
    {
      "attachments": {},
      "cell_type": "markdown",
      "metadata": {
        "colab_type": "text",
        "id": "oxQxCBWyoGPE"
      },
      "source": [
        "## Data Preprocessing"
      ]
    },
    {
      "cell_type": "markdown",
      "metadata": {
        "colab_type": "text",
        "id": "MvE-heJNo3GG"
      },
      "source": [
        "### Preprocessing the Training set"
      ]
    },
    {
      "cell_type": "code",
      "execution_count": 3,
      "metadata": {},
      "outputs": [
        {
          "name": "stdout",
          "output_type": "stream",
          "text": [
            "Found 8000 images belonging to 2 classes.\n"
          ]
        }
      ],
      "source": [
        "train_datagen = ImageDataGenerator(\n",
        "    rescale=1./255,\n",
        "    shear_range=0.2,\n",
        "    zoom_range=0.2,\n",
        "    horizontal_flip=True)\n",
        "\n",
        "training_set = train_datagen.flow_from_directory(\n",
        "    'dataset/training_set',\n",
        "    target_size=(64,64), # changed to 64 for quick process but highest value will help to get accurate result.\n",
        "    batch_size=32,\n",
        "    class_mode='binary')"
      ]
    },
    {
      "cell_type": "markdown",
      "metadata": {
        "colab_type": "text",
        "id": "mrCMmGw9pHys"
      },
      "source": [
        "### Preprocessing the Test set"
      ]
    },
    {
      "cell_type": "code",
      "execution_count": 4,
      "metadata": {},
      "outputs": [
        {
          "name": "stdout",
          "output_type": "stream",
          "text": [
            "Found 2000 images belonging to 2 classes.\n"
          ]
        }
      ],
      "source": [
        "test_datagen = ImageDataGenerator(rescale=1./255)\n",
        "\n",
        "test_set = test_datagen.flow_from_directory(\n",
        "    'dataset/test_set',\n",
        "    target_size=(64,64), # changed to 64 for quick process but highest value will help to get accurate result.\n",
        "    batch_size=32,\n",
        "    class_mode='binary')"
      ]
    },
    {
      "attachments": {},
      "cell_type": "markdown",
      "metadata": {
        "colab_type": "text",
        "id": "af8O4l90gk7B"
      },
      "source": [
        "## Building the CNN"
      ]
    },
    {
      "cell_type": "markdown",
      "metadata": {
        "colab_type": "text",
        "id": "ces1gXY2lmoX"
      },
      "source": [
        "### Initialising the CNN"
      ]
    },
    {
      "cell_type": "code",
      "execution_count": 5,
      "metadata": {},
      "outputs": [
        {
          "name": "stdout",
          "output_type": "stream",
          "text": [
            "Metal device set to: Apple M1\n",
            "\n",
            "systemMemory: 8.00 GB\n",
            "maxCacheSize: 2.67 GB\n",
            "\n"
          ]
        },
        {
          "name": "stderr",
          "output_type": "stream",
          "text": [
            "2022-12-30 17:33:47.657860: I tensorflow/core/common_runtime/pluggable_device/pluggable_device_factory.cc:305] Could not identify NUMA node of platform GPU ID 0, defaulting to 0. Your kernel may not have been built with NUMA support.\n",
            "2022-12-30 17:33:47.658016: I tensorflow/core/common_runtime/pluggable_device/pluggable_device_factory.cc:271] Created TensorFlow device (/job:localhost/replica:0/task:0/device:GPU:0 with 0 MB memory) -> physical PluggableDevice (device: 0, name: METAL, pci bus id: <undefined>)\n"
          ]
        }
      ],
      "source": [
        "cnn = tf.keras.models.Sequential()"
      ]
    },
    {
      "attachments": {},
      "cell_type": "markdown",
      "metadata": {
        "colab_type": "text",
        "id": "u5YJj_XMl5LF"
      },
      "source": [
        "### Convolution"
      ]
    },
    {
      "cell_type": "code",
      "execution_count": 6,
      "metadata": {},
      "outputs": [],
      "source": [
        "cnn.add(tf.keras.layers.Conv2D(filters=32,kernel_size=3,activation='relu',input_shape=[64,64,3])) #3 for color(RGB)"
      ]
    },
    {
      "attachments": {},
      "cell_type": "markdown",
      "metadata": {
        "colab_type": "text",
        "id": "tf87FpvxmNOJ"
      },
      "source": [
        "### Pooling"
      ]
    },
    {
      "cell_type": "code",
      "execution_count": 7,
      "metadata": {},
      "outputs": [],
      "source": [
        "cnn.add(tf.keras.layers.MaxPooling2D(pool_size=2,strides=2))"
      ]
    },
    {
      "cell_type": "markdown",
      "metadata": {
        "colab_type": "text",
        "id": "xaTOgD8rm4mU"
      },
      "source": [
        "### Adding a second convolutional layer"
      ]
    },
    {
      "cell_type": "code",
      "execution_count": 8,
      "metadata": {},
      "outputs": [],
      "source": [
        "cnn.add(tf.keras.layers.Conv2D(filters=32,kernel_size=3,activation='relu')) # input shape only pass at initial time.\n",
        "cnn.add(tf.keras.layers.MaxPooling2D(pool_size=2,strides=2))"
      ]
    },
    {
      "attachments": {},
      "cell_type": "markdown",
      "metadata": {
        "colab_type": "text",
        "id": "tmiEuvTunKfk"
      },
      "source": [
        "### Flattening"
      ]
    },
    {
      "cell_type": "code",
      "execution_count": 9,
      "metadata": {},
      "outputs": [],
      "source": [
        "cnn.add(tf.keras.layers.Flatten())"
      ]
    },
    {
      "attachments": {},
      "cell_type": "markdown",
      "metadata": {
        "colab_type": "text",
        "id": "dAoSECOm203v"
      },
      "source": [
        "### Full Connection"
      ]
    },
    {
      "cell_type": "code",
      "execution_count": 10,
      "metadata": {},
      "outputs": [],
      "source": [
        "cnn.add(tf.keras.layers.Dense(units=128,activation='relu'))"
      ]
    },
    {
      "attachments": {},
      "cell_type": "markdown",
      "metadata": {
        "colab_type": "text",
        "id": "yTldFvbX28Na"
      },
      "source": [
        "### Output Layer"
      ]
    },
    {
      "cell_type": "code",
      "execution_count": 11,
      "metadata": {},
      "outputs": [],
      "source": [
        "cnn.add(tf.keras.layers.Dense(units=1,activation='sigmoid'))"
      ]
    },
    {
      "attachments": {},
      "cell_type": "markdown",
      "metadata": {
        "colab_type": "text",
        "id": "D6XkI90snSDl"
      },
      "source": [
        "## Training the CNN"
      ]
    },
    {
      "cell_type": "markdown",
      "metadata": {
        "colab_type": "text",
        "id": "vfrFQACEnc6i"
      },
      "source": [
        "### Compiling the CNN"
      ]
    },
    {
      "cell_type": "code",
      "execution_count": 12,
      "metadata": {},
      "outputs": [],
      "source": [
        "cnn.compile(optimizer='adam', loss='binary_crossentropy',metrics=['accuracy'])"
      ]
    },
    {
      "attachments": {},
      "cell_type": "markdown",
      "metadata": {},
      "source": [
        "### Model Summary"
      ]
    },
    {
      "cell_type": "code",
      "execution_count": 13,
      "metadata": {},
      "outputs": [
        {
          "name": "stdout",
          "output_type": "stream",
          "text": [
            "Model: \"sequential\"\n",
            "_________________________________________________________________\n",
            " Layer (type)                Output Shape              Param #   \n",
            "=================================================================\n",
            " conv2d (Conv2D)             (None, 62, 62, 32)        896       \n",
            "                                                                 \n",
            " max_pooling2d (MaxPooling2D  (None, 31, 31, 32)       0         \n",
            " )                                                               \n",
            "                                                                 \n",
            " conv2d_1 (Conv2D)           (None, 29, 29, 32)        9248      \n",
            "                                                                 \n",
            " max_pooling2d_1 (MaxPooling  (None, 14, 14, 32)       0         \n",
            " 2D)                                                             \n",
            "                                                                 \n",
            " flatten (Flatten)           (None, 6272)              0         \n",
            "                                                                 \n",
            " dense (Dense)               (None, 128)               802944    \n",
            "                                                                 \n",
            " dense_1 (Dense)             (None, 1)                 129       \n",
            "                                                                 \n",
            "=================================================================\n",
            "Total params: 813,217\n",
            "Trainable params: 813,217\n",
            "Non-trainable params: 0\n",
            "_________________________________________________________________\n"
          ]
        }
      ],
      "source": [
        "cnn.summary()"
      ]
    },
    {
      "cell_type": "markdown",
      "metadata": {
        "colab_type": "text",
        "id": "ehS-v3MIpX2h"
      },
      "source": [
        "### Training the CNN on the Training set and evaluating it on the Test set"
      ]
    },
    {
      "cell_type": "code",
      "execution_count": 14,
      "metadata": {},
      "outputs": [
        {
          "name": "stdout",
          "output_type": "stream",
          "text": [
            "Epoch 1/25\n"
          ]
        },
        {
          "name": "stderr",
          "output_type": "stream",
          "text": [
            "2022-12-30 17:33:48.308326: W tensorflow/core/platform/profile_utils/cpu_utils.cc:128] Failed to get CPU frequency: 0 Hz\n",
            "2022-12-30 17:33:48.518801: I tensorflow/core/grappler/optimizers/custom_graph_optimizer_registry.cc:113] Plugin optimizer for device_type GPU is enabled.\n"
          ]
        },
        {
          "name": "stdout",
          "output_type": "stream",
          "text": [
            "250/250 [==============================] - ETA: 0s - loss: 0.6916 - accuracy: 0.5485"
          ]
        },
        {
          "name": "stderr",
          "output_type": "stream",
          "text": [
            "2022-12-30 17:34:04.422058: I tensorflow/core/grappler/optimizers/custom_graph_optimizer_registry.cc:113] Plugin optimizer for device_type GPU is enabled.\n"
          ]
        },
        {
          "name": "stdout",
          "output_type": "stream",
          "text": [
            "250/250 [==============================] - 19s 72ms/step - loss: 0.6916 - accuracy: 0.5485 - val_loss: 0.6670 - val_accuracy: 0.6215\n",
            "Epoch 2/25\n",
            "250/250 [==============================] - 18s 72ms/step - loss: 0.6483 - accuracy: 0.6270 - val_loss: 0.6762 - val_accuracy: 0.5825\n",
            "Epoch 3/25\n",
            "250/250 [==============================] - 18s 71ms/step - loss: 0.6060 - accuracy: 0.6713 - val_loss: 0.6021 - val_accuracy: 0.6765\n",
            "Epoch 4/25\n",
            "250/250 [==============================] - 18s 70ms/step - loss: 0.5668 - accuracy: 0.7051 - val_loss: 0.5371 - val_accuracy: 0.7295\n",
            "Epoch 5/25\n",
            "250/250 [==============================] - 17s 68ms/step - loss: 0.5269 - accuracy: 0.7346 - val_loss: 0.5152 - val_accuracy: 0.7545\n",
            "Epoch 6/25\n",
            "250/250 [==============================] - 17s 68ms/step - loss: 0.5007 - accuracy: 0.7518 - val_loss: 0.5146 - val_accuracy: 0.7575\n",
            "Epoch 7/25\n",
            "250/250 [==============================] - 17s 69ms/step - loss: 0.4824 - accuracy: 0.7696 - val_loss: 0.4875 - val_accuracy: 0.7685\n",
            "Epoch 8/25\n",
            "250/250 [==============================] - 17s 69ms/step - loss: 0.4527 - accuracy: 0.7798 - val_loss: 0.4832 - val_accuracy: 0.7695\n",
            "Epoch 9/25\n",
            "250/250 [==============================] - 17s 68ms/step - loss: 0.4438 - accuracy: 0.7928 - val_loss: 0.5063 - val_accuracy: 0.7575\n",
            "Epoch 10/25\n",
            "250/250 [==============================] - 17s 68ms/step - loss: 0.4330 - accuracy: 0.7959 - val_loss: 0.5206 - val_accuracy: 0.7490\n",
            "Epoch 11/25\n",
            "250/250 [==============================] - 17s 68ms/step - loss: 0.4165 - accuracy: 0.8020 - val_loss: 0.5855 - val_accuracy: 0.7470\n",
            "Epoch 12/25\n",
            "250/250 [==============================] - 17s 69ms/step - loss: 0.4022 - accuracy: 0.8161 - val_loss: 0.5223 - val_accuracy: 0.7555\n",
            "Epoch 13/25\n",
            "250/250 [==============================] - 17s 67ms/step - loss: 0.3886 - accuracy: 0.8190 - val_loss: 0.4626 - val_accuracy: 0.7840\n",
            "Epoch 14/25\n",
            "250/250 [==============================] - 17s 67ms/step - loss: 0.3728 - accuracy: 0.8325 - val_loss: 0.6127 - val_accuracy: 0.7430\n",
            "Epoch 15/25\n",
            "250/250 [==============================] - 17s 68ms/step - loss: 0.3607 - accuracy: 0.8406 - val_loss: 0.4832 - val_accuracy: 0.7880\n",
            "Epoch 16/25\n",
            "250/250 [==============================] - 17s 69ms/step - loss: 0.3329 - accuracy: 0.8521 - val_loss: 0.5026 - val_accuracy: 0.7845\n",
            "Epoch 17/25\n",
            "250/250 [==============================] - 17s 68ms/step - loss: 0.3324 - accuracy: 0.8560 - val_loss: 0.5286 - val_accuracy: 0.7590\n",
            "Epoch 18/25\n",
            "250/250 [==============================] - 17s 68ms/step - loss: 0.3176 - accuracy: 0.8638 - val_loss: 0.4952 - val_accuracy: 0.7805\n",
            "Epoch 19/25\n",
            "250/250 [==============================] - 17s 68ms/step - loss: 0.3051 - accuracy: 0.8689 - val_loss: 0.5275 - val_accuracy: 0.7820\n",
            "Epoch 20/25\n",
            "250/250 [==============================] - 17s 68ms/step - loss: 0.2898 - accuracy: 0.8751 - val_loss: 0.5304 - val_accuracy: 0.7885\n",
            "Epoch 21/25\n",
            "250/250 [==============================] - 17s 68ms/step - loss: 0.2750 - accuracy: 0.8843 - val_loss: 0.5415 - val_accuracy: 0.7655\n",
            "Epoch 22/25\n",
            "250/250 [==============================] - 17s 68ms/step - loss: 0.2530 - accuracy: 0.8916 - val_loss: 0.5437 - val_accuracy: 0.7850\n",
            "Epoch 23/25\n",
            "250/250 [==============================] - 17s 68ms/step - loss: 0.2498 - accuracy: 0.8930 - val_loss: 0.5364 - val_accuracy: 0.7835\n",
            "Epoch 24/25\n",
            "250/250 [==============================] - 17s 68ms/step - loss: 0.2466 - accuracy: 0.8955 - val_loss: 0.6442 - val_accuracy: 0.7700\n",
            "Epoch 25/25\n",
            "250/250 [==============================] - 17s 68ms/step - loss: 0.2267 - accuracy: 0.9058 - val_loss: 0.5590 - val_accuracy: 0.7845\n"
          ]
        },
        {
          "data": {
            "text/plain": [
              "<keras.callbacks.History at 0x2a730b550>"
            ]
          },
          "execution_count": 14,
          "metadata": {},
          "output_type": "execute_result"
        }
      ],
      "source": [
        "cnn.fit(x = training_set, validation_data=test_set, epochs=25)"
      ]
    },
    {
      "attachments": {},
      "cell_type": "markdown",
      "metadata": {
        "colab_type": "text",
        "id": "U3PZasO0006Z"
      },
      "source": [
        "## Making a single prediction"
      ]
    },
    {
      "cell_type": "code",
      "execution_count": 20,
      "metadata": {},
      "outputs": [
        {
          "name": "stdout",
          "output_type": "stream",
          "text": [
            "1/1 [==============================] - 0s 29ms/step\n",
            "{'cats': 0, 'dogs': 1}\n"
          ]
        }
      ],
      "source": [
        "import numpy as np\n",
        "from keras.utils import load_img, img_to_array\n",
        "test_image = load_img('dataset/sample_data/dog.jpeg',target_size = (64,64))\n",
        "test_image = img_to_array(test_image)\n",
        "test_image = np.expand_dims(test_image,axis=0)#expanding the array size (batching)\n",
        "result = cnn.predict(test_image)\n",
        "print(training_set.class_indices)"
      ]
    },
    {
      "cell_type": "code",
      "execution_count": 22,
      "metadata": {},
      "outputs": [
        {
          "name": "stdout",
          "output_type": "stream",
          "text": [
            "dog\n"
          ]
        }
      ],
      "source": [
        "if result[0][0] == 1:\n",
        "  print(\"dog\")\n",
        "else:\n",
        "  print('cat')"
      ]
    }
  ],
  "metadata": {
    "colab": {
      "collapsed_sections": [],
      "name": "convolutional_neural_network.ipynb",
      "provenance": [],
      "toc_visible": true
    },
    "kernelspec": {
      "display_name": "tf",
      "language": "python",
      "name": "python3"
    },
    "language_info": {
      "codemirror_mode": {
        "name": "ipython",
        "version": 3
      },
      "file_extension": ".py",
      "mimetype": "text/x-python",
      "name": "python",
      "nbconvert_exporter": "python",
      "pygments_lexer": "ipython3",
      "version": "3.9.15"
    },
    "vscode": {
      "interpreter": {
        "hash": "08aacbd0cfbfa91a20a5a36773cab11d600e20bb1c2a36d6f38e139530d1d2e9"
      }
    }
  },
  "nbformat": 4,
  "nbformat_minor": 0
}
